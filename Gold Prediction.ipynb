{
 "cells": [
  {
   "cell_type": "raw",
   "id": "071c51b6",
   "metadata": {},
   "source": [
    "\n",
    "import yfinance as yf\n",
    "\n",
    "# Define the symbol and date range\n",
    "symbol = \"GC=F\"  # XAU/USD symbol on Yahoo Finance\n",
    "start_date = \"2020-01-01\"\n",
    "end_date = \"2022-01-01\"\n",
    "\n",
    "# Fetch historical data from Yahoo Finance\n",
    "df = yf.download(symbol, start=start_date, end=end_date)\n",
    "\n",
    "# Save the data as a CSV file\n",
    "df.to_csv(\"XAUUSD_historical_data.csv\")\n"
   ]
  },
  {
   "cell_type": "code",
   "execution_count": 1,
   "id": "7736dee1",
   "metadata": {},
   "outputs": [],
   "source": [
    "import pandas as pd\n",
    "import numpy as np\n",
    "from sklearn.model_selection import train_test_split\n",
    "from sklearn.linear_model import LinearRegression\n",
    "from sklearn import metrics"
   ]
  },
  {
   "cell_type": "code",
   "execution_count": 2,
   "id": "56ceddfb",
   "metadata": {},
   "outputs": [],
   "source": [
    "from ipywidgets import FileUpload\n",
    "import pandas as pd\n"
   ]
  },
  {
   "cell_type": "code",
   "execution_count": 3,
   "id": "d22a5890",
   "metadata": {},
   "outputs": [],
   "source": [
    "uploader = FileUpload(accept='XAUUSD_historical_data-2019-2020.csv')  # You can specify allowed file types here\n"
   ]
  },
  {
   "cell_type": "code",
   "execution_count": 4,
   "id": "84189248",
   "metadata": {},
   "outputs": [],
   "source": [
    "data = pd.read_csv('XAUUSD_historical_data-2019-2020.csv')"
   ]
  },
  {
   "cell_type": "code",
   "execution_count": 5,
   "id": "abdbf615",
   "metadata": {},
   "outputs": [
    {
     "data": {
      "text/html": [
       "<div>\n",
       "<style scoped>\n",
       "    .dataframe tbody tr th:only-of-type {\n",
       "        vertical-align: middle;\n",
       "    }\n",
       "\n",
       "    .dataframe tbody tr th {\n",
       "        vertical-align: top;\n",
       "    }\n",
       "\n",
       "    .dataframe thead th {\n",
       "        text-align: right;\n",
       "    }\n",
       "</style>\n",
       "<table border=\"1\" class=\"dataframe\">\n",
       "  <thead>\n",
       "    <tr style=\"text-align: right;\">\n",
       "      <th></th>\n",
       "      <th>Date</th>\n",
       "      <th>Open</th>\n",
       "      <th>High</th>\n",
       "      <th>Low</th>\n",
       "      <th>Close</th>\n",
       "      <th>Adj Close</th>\n",
       "      <th>Volume</th>\n",
       "    </tr>\n",
       "  </thead>\n",
       "  <tbody>\n",
       "    <tr>\n",
       "      <th>0</th>\n",
       "      <td>2019-01-02</td>\n",
       "      <td>1286.000000</td>\n",
       "      <td>1286.000000</td>\n",
       "      <td>1277.599976</td>\n",
       "      <td>1281.000000</td>\n",
       "      <td>1281.000000</td>\n",
       "      <td>149</td>\n",
       "    </tr>\n",
       "    <tr>\n",
       "      <th>1</th>\n",
       "      <td>2019-01-03</td>\n",
       "      <td>1286.800049</td>\n",
       "      <td>1292.000000</td>\n",
       "      <td>1286.699951</td>\n",
       "      <td>1291.800049</td>\n",
       "      <td>1291.800049</td>\n",
       "      <td>10</td>\n",
       "    </tr>\n",
       "    <tr>\n",
       "      <th>2</th>\n",
       "      <td>2019-01-04</td>\n",
       "      <td>1294.199951</td>\n",
       "      <td>1294.199951</td>\n",
       "      <td>1275.300049</td>\n",
       "      <td>1282.699951</td>\n",
       "      <td>1282.699951</td>\n",
       "      <td>34</td>\n",
       "    </tr>\n",
       "    <tr>\n",
       "      <th>3</th>\n",
       "      <td>2019-01-07</td>\n",
       "      <td>1286.800049</td>\n",
       "      <td>1286.800049</td>\n",
       "      <td>1286.599976</td>\n",
       "      <td>1286.800049</td>\n",
       "      <td>1286.800049</td>\n",
       "      <td>2</td>\n",
       "    </tr>\n",
       "    <tr>\n",
       "      <th>4</th>\n",
       "      <td>2019-01-08</td>\n",
       "      <td>1280.500000</td>\n",
       "      <td>1283.199951</td>\n",
       "      <td>1278.199951</td>\n",
       "      <td>1283.199951</td>\n",
       "      <td>1283.199951</td>\n",
       "      <td>54</td>\n",
       "    </tr>\n",
       "    <tr>\n",
       "      <th>...</th>\n",
       "      <td>...</td>\n",
       "      <td>...</td>\n",
       "      <td>...</td>\n",
       "      <td>...</td>\n",
       "      <td>...</td>\n",
       "      <td>...</td>\n",
       "      <td>...</td>\n",
       "    </tr>\n",
       "    <tr>\n",
       "      <th>247</th>\n",
       "      <td>2019-12-24</td>\n",
       "      <td>1488.699951</td>\n",
       "      <td>1499.099976</td>\n",
       "      <td>1488.699951</td>\n",
       "      <td>1499.099976</td>\n",
       "      <td>1499.099976</td>\n",
       "      <td>52</td>\n",
       "    </tr>\n",
       "    <tr>\n",
       "      <th>248</th>\n",
       "      <td>2019-12-26</td>\n",
       "      <td>1505.199951</td>\n",
       "      <td>1512.300049</td>\n",
       "      <td>1505.000000</td>\n",
       "      <td>1509.300049</td>\n",
       "      <td>1509.300049</td>\n",
       "      <td>126</td>\n",
       "    </tr>\n",
       "    <tr>\n",
       "      <th>249</th>\n",
       "      <td>2019-12-27</td>\n",
       "      <td>1513.800049</td>\n",
       "      <td>1513.800049</td>\n",
       "      <td>1513.800049</td>\n",
       "      <td>1513.800049</td>\n",
       "      <td>1513.800049</td>\n",
       "      <td>839</td>\n",
       "    </tr>\n",
       "    <tr>\n",
       "      <th>250</th>\n",
       "      <td>2019-12-30</td>\n",
       "      <td>1512.599976</td>\n",
       "      <td>1515.099976</td>\n",
       "      <td>1510.000000</td>\n",
       "      <td>1514.500000</td>\n",
       "      <td>1514.500000</td>\n",
       "      <td>446</td>\n",
       "    </tr>\n",
       "    <tr>\n",
       "      <th>251</th>\n",
       "      <td>2019-12-31</td>\n",
       "      <td>1513.800049</td>\n",
       "      <td>1523.400024</td>\n",
       "      <td>1513.800049</td>\n",
       "      <td>1519.500000</td>\n",
       "      <td>1519.500000</td>\n",
       "      <td>301</td>\n",
       "    </tr>\n",
       "  </tbody>\n",
       "</table>\n",
       "<p>252 rows × 7 columns</p>\n",
       "</div>"
      ],
      "text/plain": [
       "           Date         Open         High          Low        Close  \\\n",
       "0    2019-01-02  1286.000000  1286.000000  1277.599976  1281.000000   \n",
       "1    2019-01-03  1286.800049  1292.000000  1286.699951  1291.800049   \n",
       "2    2019-01-04  1294.199951  1294.199951  1275.300049  1282.699951   \n",
       "3    2019-01-07  1286.800049  1286.800049  1286.599976  1286.800049   \n",
       "4    2019-01-08  1280.500000  1283.199951  1278.199951  1283.199951   \n",
       "..          ...          ...          ...          ...          ...   \n",
       "247  2019-12-24  1488.699951  1499.099976  1488.699951  1499.099976   \n",
       "248  2019-12-26  1505.199951  1512.300049  1505.000000  1509.300049   \n",
       "249  2019-12-27  1513.800049  1513.800049  1513.800049  1513.800049   \n",
       "250  2019-12-30  1512.599976  1515.099976  1510.000000  1514.500000   \n",
       "251  2019-12-31  1513.800049  1523.400024  1513.800049  1519.500000   \n",
       "\n",
       "       Adj Close  Volume  \n",
       "0    1281.000000     149  \n",
       "1    1291.800049      10  \n",
       "2    1282.699951      34  \n",
       "3    1286.800049       2  \n",
       "4    1283.199951      54  \n",
       "..           ...     ...  \n",
       "247  1499.099976      52  \n",
       "248  1509.300049     126  \n",
       "249  1513.800049     839  \n",
       "250  1514.500000     446  \n",
       "251  1519.500000     301  \n",
       "\n",
       "[252 rows x 7 columns]"
      ]
     },
     "execution_count": 5,
     "metadata": {},
     "output_type": "execute_result"
    }
   ],
   "source": [
    "data"
   ]
  },
  {
   "cell_type": "code",
   "execution_count": 6,
   "id": "78a04615",
   "metadata": {},
   "outputs": [],
   "source": [
    "data['Date'] = pd.to_datetime(data['Date'])\n",
    "data['Date'] = data['Date'].apply(lambda x: x.timestamp())"
   ]
  },
  {
   "cell_type": "code",
   "execution_count": 7,
   "id": "a99b6d7e",
   "metadata": {},
   "outputs": [],
   "source": [
    "x = data[['Date', 'Open']]\n",
    "y = data['Close']"
   ]
  },
  {
   "cell_type": "code",
   "execution_count": 8,
   "id": "b87d7141",
   "metadata": {},
   "outputs": [],
   "source": [
    "x_train, x_test, y_train, y_test = train_test_split(x, y, test_size=0.2, random_state=0)"
   ]
  },
  {
   "cell_type": "code",
   "execution_count": 9,
   "id": "ba9d0236",
   "metadata": {},
   "outputs": [
    {
     "data": {
      "text/plain": [
       "LinearRegression()"
      ]
     },
     "execution_count": 9,
     "metadata": {},
     "output_type": "execute_result"
    }
   ],
   "source": [
    "model = LinearRegression()\n",
    "model.fit(x_train, y_train, )"
   ]
  },
  {
   "cell_type": "code",
   "execution_count": 10,
   "id": "4e0fef48",
   "metadata": {},
   "outputs": [
    {
     "name": "stdout",
     "output_type": "stream",
     "text": [
      "Mean Absolute Error: 8.009100662754824\n",
      "R.squared score: 0.9854509875100542\n"
     ]
    }
   ],
   "source": [
    "predictions = model.predict(x_test)\n",
    "\n",
    "mae = metrics.mean_absolute_error(y_test, predictions)\n",
    "r2 = metrics.r2_score(y_test, predictions)\n",
    "\n",
    "print('Mean Absolute Error:', mae)\n",
    "print('R.squared score:', r2)"
   ]
  },
  {
   "cell_type": "code",
   "execution_count": 13,
   "id": "b8b3923a",
   "metadata": {},
   "outputs": [
    {
     "name": "stdout",
     "output_type": "stream",
     "text": [
      "Enter date in format yyyy-mm-dd: 2020-01-07\n",
      "Enter opening price: 1558.3\n",
      "The predicted closing price for the data 2020-01-07 and opening price 1558.3 is 1557.6945089562644\n"
     ]
    },
    {
     "name": "stderr",
     "output_type": "stream",
     "text": [
      "C:\\Users\\USER\\anaconda3\\lib\\site-packages\\sklearn\\base.py:450: UserWarning: X does not have valid feature names, but LinearRegression was fitted with feature names\n",
      "  warnings.warn(\n"
     ]
    }
   ],
   "source": [
    "def predict_price(data_str, open_price):\n",
    "  date = pd.to_datetime(data_str).timestamp()\n",
    "  return model.predict([[date, open_price]])[0]\n",
    "\n",
    "data_str = input(\"Enter date in format yyyy-mm-dd: \")\n",
    "open_price = float(input(\"Enter opening price: \"))\n",
    "\n",
    "predicted_close_price = predict_price(data_str, open_price)\n",
    "\n",
    "print(f\"The predicted closing price for the data {data_str} and opening price {open_price} is {predicted_close_price}\")"
   ]
  }
 ],
 "metadata": {
  "kernelspec": {
   "display_name": "Python 3 (ipykernel)",
   "language": "python",
   "name": "python3"
  },
  "language_info": {
   "codemirror_mode": {
    "name": "ipython",
    "version": 3
   },
   "file_extension": ".py",
   "mimetype": "text/x-python",
   "name": "python",
   "nbconvert_exporter": "python",
   "pygments_lexer": "ipython3",
   "version": "3.9.13"
  }
 },
 "nbformat": 4,
 "nbformat_minor": 5
}
